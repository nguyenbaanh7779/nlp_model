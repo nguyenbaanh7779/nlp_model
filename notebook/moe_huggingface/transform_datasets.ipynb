{
 "cells": [
  {
   "cell_type": "code",
   "execution_count": 1,
   "metadata": {},
   "outputs": [],
   "source": [
    "import sys\n",
    "import os\n",
    "\n",
    "root_path = \"\"\n",
    "for path in os.getcwd().split(\"\\\\\")[:-2]:\n",
    "    root_path += f\"{path}/\"\n",
    "sys.path.insert(1, root_path)"
   ]
  },
  {
   "cell_type": "code",
   "execution_count": null,
   "metadata": {},
   "outputs": [
    {
     "name": "stderr",
     "output_type": "stream",
     "text": [
      "Saving the dataset (1/1 shards): 100%|██████████| 204045/204045 [00:00<00:00, 447804.87 examples/s]\n",
      "Saving the dataset (1/1 shards): 100%|██████████| 11332/11332 [00:00<00:00, 317358.65 examples/s]\n",
      "Saving the dataset (1/1 shards): 100%|██████████| 11334/11334 [00:00<00:00, 404866.77 examples/s]\n"
     ]
    }
   ],
   "source": [
    "import datasets\n",
    "\n",
    "dataset = datasets.load_dataset(\"xsum\", trust_remote_code=True)\n",
    "def preprend(example):\n",
    "    return {\"document\": [\"summarize: \" + x for x in example[\"document\"]]}\n",
    "encoded_dataset = dataset.map(preprend, batched=True)\n",
    "encoded_dataset.save_to_disk(os.path.join(root_path, \"data/raw/xsum\"))"
   ]
  }
 ],
 "metadata": {
  "kernelspec": {
   "display_name": "py_env",
   "language": "python",
   "name": "python3"
  },
  "language_info": {
   "codemirror_mode": {
    "name": "ipython",
    "version": 3
   },
   "file_extension": ".py",
   "mimetype": "text/x-python",
   "name": "python",
   "nbconvert_exporter": "python",
   "pygments_lexer": "ipython3",
   "version": "3.12.3"
  }
 },
 "nbformat": 4,
 "nbformat_minor": 2
}
