{
 "cells": [
  {
   "cell_type": "code",
   "execution_count": 1,
   "metadata": {},
   "outputs": [],
   "source": [
    "import sys\n",
    "import os\n",
    "\n",
    "root_path = \"\"\n",
    "for path in os.getcwd().split(\"\\\\\")[:-2]:\n",
    "    root_path += f\"{path}/\"\n",
    "sys.path.insert(1, root_path)"
   ]
  },
  {
   "cell_type": "code",
   "execution_count": 2,
   "metadata": {},
   "outputs": [
    {
     "name": "stderr",
     "output_type": "stream",
     "text": [
      "c:\\Users\\Admin\\OneDrive - Hanoi University of Science and Technology\\DANC\\source_code\\py_env\\Lib\\site-packages\\tqdm\\auto.py:21: TqdmWarning: IProgress not found. Please update jupyter and ipywidgets. See https://ipywidgets.readthedocs.io/en/stable/user_install.html\n",
      "  from .autonotebook import tqdm as notebook_tqdm\n"
     ]
    }
   ],
   "source": [
    "# Importing stock libraries\n",
    "import numpy as np\n",
    "import pandas as pd\n",
    "import torch\n",
    "import yaml\n",
    "import datasets\n",
    "from torch.utils.data import DataLoader\n",
    "from transformers import (\n",
    "    AutoTokenizer,\n",
    ")\n",
    "\n",
    "from src.data.preparing import CustomDataset"
   ]
  },
  {
   "cell_type": "code",
   "execution_count": null,
   "metadata": {},
   "outputs": [],
   "source": [
    "from tqdm import tqdm\n",
    "\n",
    "def train_each_epoch(epoch, model, device, loader, optimizer):\n",
    "    logging = {\n",
    "        \"ppl_loss\": [],\n",
    "        \"encoder_z_loss\": [],\n",
    "        \"encoder_aux_loss\": [],\n",
    "        \"decoder_z_loss\": [],\n",
    "        \"decoder_aux_loss\": [],\n",
    "    }\n",
    "    model.train()\n",
    "    for _, data in (enumerate(tqdm(loader), 0)):\n",
    "        # labels = data[\"target_ids\"].to(device, dtype=torch.long)\n",
    "        # labels = model._shift_right(labels)\n",
    "\n",
    "        # # We set the pad tokens (0) to -100 to be\n",
    "        # # ignored by the CrossEntropy loss\n",
    "        # labels = labels.masked_fill_(labels == 0, -100)\n",
    "        # ids = data[\"source_ids\"].to(device, dtype=torch.long)\n",
    "        # mask = data[\"source_mask\"].to(device, dtype=torch.long)\n",
    "\n",
    "        # outputs = model(\n",
    "        #     input_ids=ids,\n",
    "        #     attention_mask=mask,\n",
    "        #     labels=labels,\n",
    "        #     output_router_logits=True,\n",
    "        #     return_dict=True,\n",
    "        # )\n",
    "\n",
    "        # loss = outputs[0]\n",
    "\n",
    "        # # logging loss during training model\n",
    "        # logging[\"optimize_loss\"] = loss.item()\n",
    "        # logging[\"encoder_z_loss\"] = outputs.encoder_z_loss.item()\n",
    "        # logging[\"encoder_aux_loss\"] = outputs.encoder_aux_loss.item()\n",
    "        # logging[\"decoder_z_loss\"] = outputs.decoder_z_loss.item()\n",
    "        # logging[\"decoder_aux_loss\"] = outputs.decoder_aux_loss.item()\n",
    "\n",
    "        if _ % 500 == 0:\n",
    "            print(f\"Epoch: {epoch} | Loop:  {_} | Loss:  {0.01}\")\n",
    "\n",
    "        # optimizer.zero_grad()\n",
    "        # loss.backward()\n",
    "        # optimizer.step()\n",
    "    return model, logging\n",
    "\n",
    "def train(model, device, training_loader, optimizer, num_epochs):\n",
    "    # Training loop\n",
    "    all_logging = dict()\n",
    "    for epoch in range(num_epochs):\n",
    "        model, logging = train_each_epoch(\n",
    "            epoch, model, device, training_loader, optimizer\n",
    "        )\n",
    "        all_logging[f\"epoch_{epoch}\"] = logging\n",
    "    return model, all_logging\n"
   ]
  },
  {
   "cell_type": "code",
   "execution_count": 14,
   "metadata": {},
   "outputs": [
    {
     "name": "stdout",
     "output_type": "stream",
     "text": [
      "Preparing data ...\n"
     ]
    }
   ],
   "source": [
    "with open(os.path.join(root_path, \"config/switch_transfomer/config.yaml\"), \"r\") as f:\n",
    "    config = yaml.safe_load(f)\n",
    "f.close()\n",
    "# Set random seeds and deterministic pytorch for reproducibility\n",
    "torch.manual_seed(config[\"SEED\"])  # pytorch random seed\n",
    "np.random.seed(config[\"SEED\"])  # numpy random seed\n",
    "torch.backends.cudnn.deterministic = True\n",
    "\n",
    "# Prepare data to training\n",
    "print(\"Preparing data ...\")\n",
    "dataset = datasets.load_from_disk(os.path.join(root_path, \"data/raw/xsum\"))\n",
    "# Creation of Dataset and Dataloader\n",
    "train_dataset = dataset[\"train\"]\n",
    "tokenizer = AutoTokenizer.from_pretrained(\"google/switch-base-8\")\n",
    "training_set = CustomDataset(\n",
    "    train_dataset, tokenizer, config[\"MAX_LEN\"], config[\"SUMMARY_LEN\"]\n",
    ")\n",
    "# # Defining the parameters for creation of dataloaders\n",
    "# train_params = {\n",
    "#     \"batch_size\": config[\"TRAIN_BATCH_SIZE\"],\n",
    "#     \"shuffle\": True,\n",
    "#     \"num_workers\": 0,\n",
    "# }\n",
    "# training_loader = DataLoader(training_set, **train_params)\n",
    "\n",
    "# # Initial device\n",
    "# device = \"cuda\" if cuda.is_available() else \"cpu\"\n",
    "# print(f\"Train model by {device}\")\n",
    "# # Initial model\n",
    "# model = SwitchTransformersForConditionalGeneration.from_pretrained(\n",
    "#     \"google/switch-base-8\", torch_dtype=torch.bfloat16\n",
    "# )\n",
    "# model = model.to(device)\n",
    "# # Defining the optimizer that will be used to tune the weights of the network in the training session.\n",
    "# optimizer = torch.optim.Adam(\n",
    "#     params=model.parameters(), lr=float(config[\"LEARNING_RATE\"])\n",
    "# )\n",
    "\n",
    "#  # Start training model\n",
    "# print(\"Training model ...\")\n",
    "# model, logging = train(\n",
    "#     model=model,\n",
    "#     device=device,\n",
    "#     training_loader=training_loader,\n",
    "#     optimizer=optimizer,\n",
    "#     num_epochs=config[\"TRAIN_EPOCHS\"],\n",
    "# )\n",
    "# model.forward()"
   ]
  },
  {
   "cell_type": "code",
   "execution_count": 8,
   "metadata": {},
   "outputs": [
    {
     "name": "stderr",
     "output_type": "stream",
     "text": [
      "Truncation was not explicitly activated but `max_length` is provided a specific value, please use `truncation=True` to explicitly truncate examples to max length. Defaulting to 'longest_first' truncation strategy. If you encode pairs of sequences (GLUE-style) with the tokenizer you can select this strategy more precisely by providing a specific strategy to `truncation`.\n",
      "c:\\Users\\Admin\\OneDrive - Hanoi University of Science and Technology\\DANC\\source_code\\py_env\\Lib\\site-packages\\transformers\\tokenization_utils_base.py:2681: FutureWarning: The `pad_to_max_length` argument is deprecated and will be removed in a future version, use `padding=True` or `padding='longest'` to pad to the longest sequence in the batch, or use `padding='max_length'` to pad to a max length. In this case, you can give a specific length with `max_length` (e.g. `max_length=45`) or leave max_length to None to pad to the maximal input size of the model (e.g. 512 for Bert).\n",
      "  warnings.warn(\n"
     ]
    },
    {
     "data": {
      "text/plain": [
       "{'source_ids': tensor([21603,    10,    37,   423,   583,    13,  1783,    16, 20126, 16496,\n",
       "             6,    80,    13,     8,   844,  6025,  4161,     6,    19,   341,\n",
       "           271, 14841,     5,  7057,   161,    19,  4912,    16,  1626,  5981,\n",
       "            11,   186,  7540,    16,  1276,    15,  2296,     7,  5718,  2367,\n",
       "         14621,  4161,    57,  4125,   387,     5, 15059,     7,    30,     8,\n",
       "          4653,  4939,   711,   747,   522, 17879,   788,    12,  1783,    44,\n",
       "             8, 15763,  6029,  1813,     9,  7472,     5,  1404,  1623,    11,\n",
       "          5699,   277,   130,  4161,    57, 18368,    16, 20126, 16496,   227,\n",
       "             8,  2473,  5895,    15,   147,    89, 22411,   139,     8,  1511,\n",
       "             5,  1485,  3271,     3, 21926,     9,   472, 19623,  5251,     8,\n",
       "           616,    12, 15614,     8,  1783,     5,    37, 13818, 10564,    15,\n",
       "            26,     3,     9,     3, 19513,  1481,     6, 18368,   186,  1328,\n",
       "          2605,    30,  7488,  1887,     3,    18,     8,   711,  2309,  9517,\n",
       "            89,   355,     5,  3966,  1954,  9233,    15,     6,   113,   293,\n",
       "             7,     8, 16548, 13363,   106, 14022,    84,    47, 14621,  4161,\n",
       "             6,   243,   255,   228,    59,  7828,     8,  1249,    18,   545,\n",
       "         11298,  1773,   728,     8,  8347,  1560,     5,   611,     6,   255,\n",
       "           243,    72,  1709,  1528,   161,   228,    43,   118,  4006,    91,\n",
       "            12,   766,     8,     3, 19513,  1481,   410,    59,  5124,     5,\n",
       "            96,   196,    17,    19,  1256,    68,    27,   103,   317,   132,\n",
       "            19,    78,   231, 23546,    21,   970,    51,    89,  2593,    11,\n",
       "             8,  2504,   189,     3,    18,    11,    27,  3536,  3653,    24,\n",
       "             3,    18,    68,    34,    19,   966,   114,    62,    31,    60,\n",
       "         23708,    42, 11821,   976,   255,   243,     5,    96, 11880,   164,\n",
       "            59,    36,  1176,    68,    34,    19,  2361,    82,  3503,   147,\n",
       "             8,   336,   360,   477,     5,     1]),\n",
       " 'source_mask': tensor([1, 1, 1, 1, 1, 1, 1, 1, 1, 1, 1, 1, 1, 1, 1, 1, 1, 1, 1, 1, 1, 1, 1, 1,\n",
       "         1, 1, 1, 1, 1, 1, 1, 1, 1, 1, 1, 1, 1, 1, 1, 1, 1, 1, 1, 1, 1, 1, 1, 1,\n",
       "         1, 1, 1, 1, 1, 1, 1, 1, 1, 1, 1, 1, 1, 1, 1, 1, 1, 1, 1, 1, 1, 1, 1, 1,\n",
       "         1, 1, 1, 1, 1, 1, 1, 1, 1, 1, 1, 1, 1, 1, 1, 1, 1, 1, 1, 1, 1, 1, 1, 1,\n",
       "         1, 1, 1, 1, 1, 1, 1, 1, 1, 1, 1, 1, 1, 1, 1, 1, 1, 1, 1, 1, 1, 1, 1, 1,\n",
       "         1, 1, 1, 1, 1, 1, 1, 1, 1, 1, 1, 1, 1, 1, 1, 1, 1, 1, 1, 1, 1, 1, 1, 1,\n",
       "         1, 1, 1, 1, 1, 1, 1, 1, 1, 1, 1, 1, 1, 1, 1, 1, 1, 1, 1, 1, 1, 1, 1, 1,\n",
       "         1, 1, 1, 1, 1, 1, 1, 1, 1, 1, 1, 1, 1, 1, 1, 1, 1, 1, 1, 1, 1, 1, 1, 1,\n",
       "         1, 1, 1, 1, 1, 1, 1, 1, 1, 1, 1, 1, 1, 1, 1, 1, 1, 1, 1, 1, 1, 1, 1, 1,\n",
       "         1, 1, 1, 1, 1, 1, 1, 1, 1, 1, 1, 1, 1, 1, 1, 1, 1, 1, 1, 1, 1, 1, 1, 1,\n",
       "         1, 1, 1, 1, 1, 1, 1, 1, 1, 1, 1, 1, 1, 1, 1, 1]),\n",
       " 'target_ids': tensor([ 7433,    18,   413,  2673,    33,  6168,   640,     8, 12580, 17600,\n",
       "             7,    11,   970,    51,    89,  2593,    11, 10987,    32,  1343,\n",
       "           227, 18368,  2953,    57, 16133,  4937,     5,     1,     0,     0,\n",
       "             0,     0,     0,     0,     0,     0,     0,     0,     0,     0,\n",
       "             0,     0,     0,     0,     0,     0,     0,     0,     0,     0,\n",
       "             0,     0,     0,     0,     0,     0,     0,     0,     0,     0,\n",
       "             0,     0,     0,     0,     0,     0,     0,     0,     0,     0,\n",
       "             0,     0,     0,     0,     0,     0,     0,     0,     0,     0]),\n",
       " 'target_ids_y': tensor([ 7433,    18,   413,  2673,    33,  6168,   640,     8, 12580, 17600,\n",
       "             7,    11,   970,    51,    89,  2593,    11, 10987,    32,  1343,\n",
       "           227, 18368,  2953,    57, 16133,  4937,     5,     1,     0,     0,\n",
       "             0,     0,     0,     0,     0,     0,     0,     0,     0,     0,\n",
       "             0,     0,     0,     0,     0,     0,     0,     0,     0,     0,\n",
       "             0,     0,     0,     0,     0,     0,     0,     0,     0,     0,\n",
       "             0,     0,     0,     0,     0,     0,     0,     0,     0,     0,\n",
       "             0,     0,     0,     0,     0,     0,     0,     0,     0,     0])}"
      ]
     },
     "execution_count": 8,
     "metadata": {},
     "output_type": "execute_result"
    }
   ],
   "source": [
    "training_set[0]"
   ]
  },
  {
   "cell_type": "code",
   "execution_count": 20,
   "metadata": {},
   "outputs": [
    {
     "data": {
      "text/plain": [
       "{'document': 'summarize: The full cost of damage in Newton Stewart, one of the areas worst affected, is still being assessed.\\nRepair work is ongoing in Hawick and many roads in Peeblesshire remain badly affected by standing water.\\nTrains on the west coast mainline face disruption due to damage at the Lamington Viaduct.\\nMany businesses and householders were affected by flooding in Newton Stewart after the River Cree overflowed into the town.\\nFirst Minister Nicola Sturgeon visited the area to inspect the damage.\\nThe waters breached a retaining wall, flooding many commercial properties on Victoria Street - the main shopping thoroughfare.\\nJeanette Tate, who owns the Cinnamon Cafe which was badly affected, said she could not fault the multi-agency response once the flood hit.\\nHowever, she said more preventative work could have been carried out to ensure the retaining wall did not fail.\\n\"It is difficult but I do think there is so much publicity for Dumfries and the Nith - and I totally appreciate that - but it is almost like we\\'re neglected or forgotten,\" she said.\\n\"That may not be true but it is perhaps my perspective over the last few days.\\n\"Why were you not ready to help us a bit more when the warning and the alarm alerts had gone out?\"\\nMeanwhile, a flood alert remains in place across the Borders because of the constant rain.\\nPeebles was badly hit by problems, sparking calls to introduce more defences in the area.\\nScottish Borders Council has put a list on its website of the roads worst affected and drivers have been urged not to ignore closure signs.\\nThe Labour Party\\'s deputy Scottish leader Alex Rowley was in Hawick on Monday to see the situation first hand.\\nHe said it was important to get the flood protection plan right but backed calls to speed up the process.\\n\"I was quite taken aback by the amount of damage that has been done,\" he said.\\n\"Obviously it is heart-breaking for people who have been forced out of their homes and the impact on businesses.\"\\nHe said it was important that \"immediate steps\" were taken to protect the areas most vulnerable and a clear timetable put in place for flood prevention plans.\\nHave you been affected by flooding in Dumfries and Galloway or the Borders? Tell us about your experience of the situation and how it was handled. Email us on selkirk.news@bbc.co.uk or dumfries@bbc.co.uk.',\n",
       " 'summary': 'Clean-up operations are continuing across the Scottish Borders and Dumfries and Galloway after flooding caused by Storm Frank.',\n",
       " 'id': '35232142'}"
      ]
     },
     "execution_count": 20,
     "metadata": {},
     "output_type": "execute_result"
    }
   ],
   "source": [
    "train_dataset[0]"
   ]
  },
  {
   "cell_type": "code",
   "execution_count": 25,
   "metadata": {},
   "outputs": [
    {
     "name": "stderr",
     "output_type": "stream",
     "text": [
      "c:\\Users\\Admin\\OneDrive - Hanoi University of Science and Technology\\DANC\\source_code\\py_env\\Lib\\site-packages\\transformers\\tokenization_utils_base.py:2681: FutureWarning: The `pad_to_max_length` argument is deprecated and will be removed in a future version, use `padding=True` or `padding='longest'` to pad to the longest sequence in the batch, or use `padding='max_length'` to pad to a max length. In this case, you can give a specific length with `max_length` (e.g. `max_length=45`) or leave max_length to None to pad to the maximal input size of the model (e.g. 512 for Bert).\n",
      "  warnings.warn(\n"
     ]
    },
    {
     "data": {
      "text/plain": [
       "256"
      ]
     },
     "execution_count": 25,
     "metadata": {},
     "output_type": "execute_result"
    }
   ],
   "source": [
    "len(training_set[0][\"source_ids\"])"
   ]
  }
 ],
 "metadata": {
  "kernelspec": {
   "display_name": "py_env",
   "language": "python",
   "name": "python3"
  },
  "language_info": {
   "codemirror_mode": {
    "name": "ipython",
    "version": 3
   },
   "file_extension": ".py",
   "mimetype": "text/x-python",
   "name": "python",
   "nbconvert_exporter": "python",
   "pygments_lexer": "ipython3",
   "version": "3.12.3"
  }
 },
 "nbformat": 4,
 "nbformat_minor": 2
}
