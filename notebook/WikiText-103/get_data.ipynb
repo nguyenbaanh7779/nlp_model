{
 "cells": [
  {
   "cell_type": "code",
   "execution_count": 2,
   "metadata": {},
   "outputs": [],
   "source": [
    "import sys\n",
    "import os\n",
    "\n",
    "root_path = \"\"\n",
    "for path in os.getcwd().split(\"\\\\\")[:-2]:\n",
    "    root_path += f\"{path}/\"\n",
    "sys.path.insert(1, root_path)"
   ]
  },
  {
   "cell_type": "code",
   "execution_count": 3,
   "metadata": {},
   "outputs": [],
   "source": [
    "import config"
   ]
  },
  {
   "cell_type": "code",
   "execution_count": 4,
   "metadata": {},
   "outputs": [],
   "source": [
    "wandb_params = {\n",
    "    \"project_name\": \"project_name\",\n",
    "    \"job_name\": \"job_name\",\n",
    "    \"wandb_flag\": False,\n",
    "}"
   ]
  },
  {
   "cell_type": "code",
   "execution_count": 5,
   "metadata": {},
   "outputs": [],
   "source": [
    "import torch\n",
    "\n",
    "# set_up_env\n",
    "env_params = {\"device\": torch.device(\"cpu\")}"
   ]
  },
  {
   "cell_type": "code",
   "execution_count": 6,
   "metadata": {},
   "outputs": [],
   "source": [
    "trainer_params = {\n",
    "    \"resume\": False,\n",
    "    \"batch_size\": 96,\n",
    "    \"checkpoint_path\": \"checkpoint/directory/smoe.pt\",\n",
    "    \"full_eval_mode\": False,\n",
    "    \"nb_batches_per_iter\": 1000,\n",
    "    \"batch_split\": 2,\n",
    "}"
   ]
  },
  {
   "cell_type": "code",
   "execution_count": 19,
   "metadata": {},
   "outputs": [],
   "source": [
    "data_params = {\"data_path\": \"data/text8\", \"data_name\": \"text8\"}"
   ]
  },
  {
   "cell_type": "code",
   "execution_count": 8,
   "metadata": {},
   "outputs": [],
   "source": [
    "def _tokenize(ds, type_ds, dictionary_to_update):\n",
    "    nb_tokens_in_dictionary = len(dictionary_to_update)\n",
    "\n",
    "    # Count nb of tokens in text and update the dictionary\n",
    "    for (\n",
    "        i,\n",
    "        line,\n",
    "    ) in enumerate(ds[type_ds][\"text\"]):\n",
    "        if i == 10:\n",
    "            break\n",
    "        tokens = line.split() + [\"<eos>\"]\n",
    "        for token in tokens:\n",
    "            if token not in dictionary_to_update:\n",
    "                dictionary_to_update[token] = nb_tokens_in_dictionary\n",
    "                nb_tokens_in_dictionary += 1\n",
    "\n",
    "    # Assign to each token its identifier\n",
    "    ids = []\n",
    "    for (\n",
    "        i,\n",
    "        line,\n",
    "    ) in enumerate(ds[type_ds][\"text\"]):\n",
    "        if i == 10:\n",
    "            break\n",
    "        tokens = line.split() + [\"<eos>\"]\n",
    "        for token in tokens:\n",
    "            ids.append(dictionary_to_update[token])\n",
    "    ids = torch.LongTensor(ids)\n",
    "    return ids"
   ]
  },
  {
   "cell_type": "code",
   "execution_count": 9,
   "metadata": {},
   "outputs": [
    {
     "name": "stderr",
     "output_type": "stream",
     "text": [
      "c:\\Users\\Admin\\OneDrive - Hanoi University of Science and Technology\\DANC\\source_code\\py_env\\Lib\\site-packages\\tqdm\\auto.py:21: TqdmWarning: IProgress not found. Please update jupyter and ipywidgets. See https://ipywidgets.readthedocs.io/en/stable/user_install.html\n",
      "  from .autonotebook import tqdm as notebook_tqdm\n"
     ]
    }
   ],
   "source": [
    "from datasets import load_dataset\n",
    "\n",
    "ds = load_dataset(\"Salesforce/wikitext\", \"wikitext-103-raw-v1\")"
   ]
  },
  {
   "cell_type": "code",
   "execution_count": 10,
   "metadata": {},
   "outputs": [],
   "source": [
    "class Corpus:\n",
    "    def __init__(self, ds):\n",
    "        self._dictionary = {}\n",
    "        self.train = _tokenize(\n",
    "            ds=ds, type_ds=\"train\", dictionary_to_update=self._dictionary\n",
    "        )\n",
    "        self.valid = _tokenize(\n",
    "            ds=ds, type_ds=\"validation\", dictionary_to_update=self._dictionary\n",
    "        )\n",
    "        self.test = _tokenize(\n",
    "            ds=ds, type_ds=\"test\", dictionary_to_update=self._dictionary\n",
    "        )\n",
    "\n",
    "    @property\n",
    "    def vocab_size(self):\n",
    "        return len(self._dictionary)"
   ]
  },
  {
   "cell_type": "code",
   "execution_count": 11,
   "metadata": {},
   "outputs": [
    {
     "data": {
      "text/plain": [
       "'c:/Users/Admin/OneDrive - Hanoi University of Science and Technology/DANC/source_code/my_source/data/raw/wikitext-103.pt'"
      ]
     },
     "execution_count": 11,
     "metadata": {},
     "output_type": "execute_result"
    }
   ],
   "source": [
    "corpus_path = os.path.join(config.ROOT_PATH, \"data/raw/wikitext-103.pt\")\n",
    "corpus_path"
   ]
  },
  {
   "cell_type": "code",
   "execution_count": 12,
   "metadata": {},
   "outputs": [],
   "source": [
    "corpus = Corpus(ds=ds)"
   ]
  },
  {
   "cell_type": "code",
   "execution_count": 20,
   "metadata": {},
   "outputs": [],
   "source": [
    "data_params[\"vocab_size\"] = corpus.vocab_size"
   ]
  },
  {
   "cell_type": "code",
   "execution_count": null,
   "metadata": {},
   "outputs": [],
   "source": []
  },
  {
   "cell_type": "code",
   "execution_count": 21,
   "metadata": {},
   "outputs": [],
   "source": [
    "torch.save(corpus, corpus_path)"
   ]
  },
  {
   "cell_type": "code",
   "execution_count": 22,
   "metadata": {},
   "outputs": [],
   "source": [
    "# Tạo ra khối token với hai bước\n",
    "# Bước 1: là cắt bỏ các phần tử cuối của array sao cho độ dài array chia hết cho batch_size\n",
    "# Bước 2: chuyển từng khối batch thành vector cột với độ dài mỗi cột là batch size\n",
    "\n",
    "\n",
    "def _batchify(data_tensor, batch_size):\n",
    "    # Work out how cleanly we can divide the dataset into bsz parts.\n",
    "    nb_batches = data_tensor.size(0) // batch_size\n",
    "    # Trim off any extra elements that wouldn't cleanly fit (remainders).\n",
    "    data_tensor = data_tensor.narrow(0, 0, nb_batches * batch_size)\n",
    "    # Evenly divide the data across the bsz batches.\n",
    "    data_tensor = data_tensor.view(batch_size, -1).contiguous()\n",
    "    return data_tensor\n",
    "\n",
    "\n",
    "def _get_train_val_test_data(corpus: Corpus, batch_size: int) -> torch.Tensor:\n",
    "    return [\n",
    "        _batchify(corpus.train, batch_size),\n",
    "        _batchify(corpus.valid, batch_size),\n",
    "        _batchify(corpus.test, batch_size),\n",
    "    ]"
   ]
  },
  {
   "cell_type": "code",
   "execution_count": 23,
   "metadata": {},
   "outputs": [
    {
     "data": {
      "text/plain": [
       "96"
      ]
     },
     "execution_count": 23,
     "metadata": {},
     "output_type": "execute_result"
    }
   ],
   "source": [
    "batch_size = trainer_params[\"batch_size\"]\n",
    "batch_size"
   ]
  },
  {
   "cell_type": "code",
   "execution_count": 24,
   "metadata": {},
   "outputs": [
    {
     "name": "stdout",
     "output_type": "stream",
     "text": [
      "tensor([[  0,   1,   2,   3,   4],\n",
      "        [  1,   0,   0,   5,   6],\n",
      "        [  2,   7,   8,   9,   3],\n",
      "        [ 10,  11,   8,  12,  13],\n",
      "        [ 14,  15,   2,  16,  17],\n",
      "        [ 18,   7,  19,  13,  20],\n",
      "        [ 21,  22,  23,   2,   3],\n",
      "        [  4,  24,  25,  13,  26],\n",
      "        [ 27,  28,  29,  30,  31],\n",
      "        [ 32,  33,  34,  35,  36],\n",
      "        [ 37,  38,  39,  17,  40],\n",
      "        [ 41,  15,  42,  43,  44],\n",
      "        [ 45,  43,  25,  13,  46],\n",
      "        [ 26,  17,  47,  33,  43],\n",
      "        [ 17,   2,  48,  15,  49],\n",
      "        [ 17,  50,  51,  16,  28],\n",
      "        [ 37,  52,  30,  53,  54],\n",
      "        [ 23,  55,  56,  13,  17],\n",
      "        [ 57,  58,  59,  22,  17],\n",
      "        [ 60,  33,  37,  61,  17],\n",
      "        [ 62,  63,  62,  13,  27],\n",
      "        [ 64,  65,  66,  67,  17],\n",
      "        [ 68,  16,  69,  70,  17],\n",
      "        [ 71,  72,  73,  74,  75],\n",
      "        [ 76,  77,  78,  37,  79],\n",
      "        [ 80,  81,  17,  82,  66],\n",
      "        [ 62,  83,  84,  62,  15],\n",
      "        [  0,  85,  33,  86,  87],\n",
      "        [ 43,  88,  13,  89,  90],\n",
      "        [ 27,  91,  92,  16,  17],\n",
      "        [ 93,  94,  95,   2,   3],\n",
      "        [ 96,  15,  97,  46,  98],\n",
      "        [ 17,  99, 100,  16,  17],\n",
      "        [ 48,  13,  46, 101, 102],\n",
      "        [103, 104,  13, 105,  23],\n",
      "        [106,  17,  33, 107, 108],\n",
      "        [ 39,  48, 109,  15, 110],\n",
      "        [111, 112, 113,  37, 114],\n",
      "        [115, 116, 117, 118, 119],\n",
      "        [120, 121,  13, 122, 123],\n",
      "        [  2,   3,  96, 124, 125],\n",
      "        [126,  15, 127,  91, 128],\n",
      "        [ 16, 129, 130,  17, 131],\n",
      "        [ 15,  85,  33, 132, 133],\n",
      "        [134, 135, 136,  35, 137],\n",
      "        [138,  15,   0, 139, 140],\n",
      "        [123, 141, 142,  43,  25],\n",
      "        [ 13,  37, 135, 143,  35],\n",
      "        [117,  11,  37, 144, 145],\n",
      "        [ 15, 146, 147,  13,  46],\n",
      "        [148, 149, 150,  13, 122],\n",
      "        [123, 151, 152, 153,  43],\n",
      "        [154,  16, 155, 156,  15],\n",
      "        [139, 135, 101, 157, 158],\n",
      "        [159,  37, 151, 160,  32],\n",
      "        [161,  48,  15, 162,  22],\n",
      "        [163, 142,  16,   2,   3],\n",
      "        [ 96,  13,   2,   3,   4],\n",
      "        [135, 164, 165,  13, 166],\n",
      "        [ 27, 167, 168, 169, 123],\n",
      "        [ 17,  33, 132, 152, 153],\n",
      "        [135, 170,  43, 171,  15],\n",
      "        [ 38, 172, 173,  22,  17],\n",
      "        [174, 123,  17,  87,  16],\n",
      "        [  2,   8, 175, 176,  39],\n",
      "        [ 17,  40, 177,  15,   0],\n",
      "        [  0,   1,   1, 178,   1],\n",
      "        [  1,   0,   0, 179, 123],\n",
      "        [120, 180,   3, 181,  13],\n",
      "        [  2,   3,   4,  26,  27],\n",
      "        [ 28,  29,  30,  31,  33],\n",
      "        [182, 183, 184, 185,  16],\n",
      "        [ 27,  65,  66,  37, 184],\n",
      "        [186,  43, 187,  81, 188],\n",
      "        [189,  15, 190,  79, 191],\n",
      "        [192, 193, 194,  30, 195],\n",
      "        [196, 123, 197, 198, 199],\n",
      "        [ 13, 123, 200, 201, 202],\n",
      "        [192, 203, 204, 205,  37],\n",
      "        [202, 192, 206, 207,  15],\n",
      "        [ 85, 208, 209, 192,  27],\n",
      "        [ 48,  16, 210, 187,  13],\n",
      "        [211, 212,  23, 213, 155],\n",
      "        [214, 215, 216, 217, 192],\n",
      "        [ 37, 218,  23, 219,  79],\n",
      "        [212,  15,  85, 220,  22],\n",
      "        [221,  57, 222,  95,  17],\n",
      "        [223, 224, 225,  95, 151],\n",
      "        [226, 208, 132, 227,   8],\n",
      "        [228, 229, 230,  26, 231],\n",
      "        [ 13,  17, 232,  26, 233],\n",
      "        [234,  22,  17, 208,  15],\n",
      "        [235, 187,  13,  17, 208],\n",
      "        [200, 236,  43,  27, 237],\n",
      "        [ 13, 182, 238, 214, 215],\n",
      "        [239,  37, 198, 240, 241]])\n",
      "tensor([[  0,   1, 271, 272],\n",
      "        [  1,   0,   0, 271],\n",
      "        [272,  13, 273,  23],\n",
      "        [ 17, 274, 275, 276],\n",
      "        [277, 275,  13,  26],\n",
      "        [ 27, 278,  16, 279],\n",
      "        [275, 119,  17, 280],\n",
      "        [281, 282,  13, 283],\n",
      "        [284,  37, 285,  16],\n",
      "        [ 17, 286, 284,  15],\n",
      "        [139,  26, 287, 265],\n",
      "        [ 22,  17, 288, 275],\n",
      "        [ 13, 289, 290,  15],\n",
      "        [139, 291, 292,  22],\n",
      "        [ 27, 293,  16, 294],\n",
      "        [295,  10, 296,  43],\n",
      "        [ 19,  37,  27, 297],\n",
      "        [ 16, 298, 299,  10],\n",
      "        [300, 301,  19,  13],\n",
      "        [ 37, 302,  27, 303],\n",
      "        [304,  16, 305,  15],\n",
      "        [306, 307,  13,  17],\n",
      "        [308,  79, 309,  13],\n",
      "        [310, 311,  62, 275],\n",
      "        [312,  62,  95, 313],\n",
      "        [ 15, 314, 241,  43],\n",
      "        [ 17, 315,  13, 316],\n",
      "        [317, 318,  79, 319],\n",
      "        [ 35,  17, 320,  39],\n",
      "        [321,  22,  27, 156],\n",
      "        [322, 323, 158, 324],\n",
      "        [325,  15, 271, 272],\n",
      "        [ 26,  27, 326, 327],\n",
      "        [328,  13,  37,  26],\n",
      "        [329, 330, 331, 275],\n",
      "        [332,  13, 333, 334],\n",
      "        [ 17, 335, 336,  15],\n",
      "        [  0,   0,   1,   1],\n",
      "        [337,   1,   1,   0],\n",
      "        [  0, 271, 272,  26],\n",
      "        [ 27,  91, 338,  13],\n",
      "        [123,  27, 339, 293],\n",
      "        [321,  22, 294, 340],\n",
      "        [ 10, 296,  43,  19],\n",
      "        [ 37, 341, 321,  22],\n",
      "        [342, 343, 298, 299],\n",
      "        [ 10, 344, 343, 300],\n",
      "        [301,  19,  13, 268],\n",
      "        [ 17, 308, 330,  43],\n",
      "        [275, 332,  79, 345],\n",
      "        [346, 343, 347, 295],\n",
      "        [ 10, 348, 343, 349],\n",
      "        [ 43,  19, 350,  37],\n",
      "        [351, 352, 353, 354],\n",
      "        [343, 355, 353, 355],\n",
      "        [356,  10, 357, 353],\n",
      "        [342, 343, 177, 353],\n",
      "        [348, 301,  19,  15],\n",
      "        [358, 232, 359,  13],\n",
      "        [308, 360,  27, 361],\n",
      "        [362, 318, 219, 363],\n",
      "        [364,  43, 365,  22],\n",
      "        [292,  13,  43,  27],\n",
      "        [366, 367, 368,  10],\n",
      "        [369,  19,  15, 370],\n",
      "        [291, 371, 372, 373],\n",
      "        [ 27, 156,  39, 374],\n",
      "        [308,  13, 166, 375],\n",
      "        [ 22, 376, 377, 357],\n",
      "        [343, 355, 378,  39],\n",
      "        [379, 380,  15,   0],\n",
      "        [ 85,  60, 304,  16],\n",
      "        [381,  26, 382, 123],\n",
      "        [ 27,  91,  13, 383],\n",
      "        [304,  16, 305,  15],\n",
      "        [ 85, 379, 229,  26],\n",
      "        [ 17,  62, 384,  62],\n",
      "        [ 13,  37, 385, 386],\n",
      "        [387, 388,  39, 389],\n",
      "        [390, 391,  17, 232],\n",
      "        [ 26,  17,  62, 392],\n",
      "        [ 62,  13, 318, 385],\n",
      "        [393, 394, 395,  13],\n",
      "        [ 37,  26, 388,  39],\n",
      "        [396, 276, 397,  17],\n",
      "        [390,  15, 398,  13],\n",
      "        [ 17, 399, 400,  26],\n",
      "        [ 17, 384,  13,  37],\n",
      "        [ 17, 401,  26,  17],\n",
      "        [392,  15,   0,  85],\n",
      "        [362,  26, 402, 309],\n",
      "        [403,  13, 123, 404],\n",
      "        [155, 405,  13,  37],\n",
      "        [406, 407,  15,  85],\n",
      "        [312, 408, 409, 123],\n",
      "        [308, 310, 410, 411]])\n",
      "tensor([[  0,   1, 421],\n",
      "        [422,   1,   0],\n",
      "        [  0, 421, 422],\n",
      "        [ 26, 151, 423],\n",
      "        [424,  13, 425],\n",
      "        [ 37, 426, 427],\n",
      "        [ 15, 428, 429],\n",
      "        [ 27, 430,  30],\n",
      "        [431,  29,  95],\n",
      "        [ 17, 425,  48],\n",
      "        [ 85, 432,  43],\n",
      "        [433,  15, 370],\n",
      "        [135, 434,  35],\n",
      "        [ 27, 431,  29],\n",
      "        [ 43,  17, 435],\n",
      "        [436, 437,  35],\n",
      "        [438, 439,  13],\n",
      "        [318, 135, 440],\n",
      "        [ 43, 441, 442],\n",
      "        [ 17, 443, 444],\n",
      "        [445,  15, 428],\n",
      "        [429,  27, 430],\n",
      "        [ 29,  43,  17],\n",
      "        [425,  48, 446],\n",
      "        [447, 448,  43],\n",
      "        [449,  15, 306],\n",
      "        [450, 422, 451],\n",
      "        [ 27,  29,  23],\n",
      "        [ 62, 452,  62],\n",
      "        [ 43,  17, 453],\n",
      "        [ 62, 454, 132],\n",
      "        [455,  62,  16],\n",
      "        [ 17, 425,  48],\n",
      "        [ 85, 456, 457],\n",
      "        [391, 458, 459],\n",
      "        [460, 461, 462],\n",
      "        [463,  37, 464],\n",
      "        [465,  15, 428],\n",
      "        [135, 466,  43],\n",
      "        [ 17, 467, 426],\n",
      "        [468,  16,  17],\n",
      "        [469, 470, 435],\n",
      "        [471, 472,  13],\n",
      "        [318, 135, 440],\n",
      "        [442,  17, 473],\n",
      "        [445,  43, 474],\n",
      "        [ 37,  17, 475],\n",
      "        [476, 477,  43],\n",
      "        [478,  15, 428],\n",
      "        [135, 479,  35],\n",
      "        [447, 480,  37],\n",
      "        [459, 460, 481],\n",
      "        [482,  13, 483],\n",
      "        [484,  13, 485],\n",
      "        [486,  13, 487],\n",
      "        [488,  13, 489],\n",
      "        [490,  37, 491],\n",
      "        [492,  15,   0],\n",
      "        [306, 493,  13],\n",
      "        [422, 459, 460],\n",
      "        [482,  43,  17],\n",
      "        [435, 494, 437],\n",
      "        [ 35, 462, 495],\n",
      "        [ 15, 428, 496],\n",
      "        [ 95,  27, 493],\n",
      "        [453,  16,  17],\n",
      "        [425,  48,  13],\n",
      "        [497,  13, 434],\n",
      "        [ 35,  27,  29],\n",
      "        [ 43,  17, 498],\n",
      "        [426, 499,  16],\n",
      "        [500,  22, 501],\n",
      "        [479,  35, 502],\n",
      "        [503,  15, 500],\n",
      "        [ 22, 501, 135],\n",
      "        [440, 442, 504],\n",
      "        [445,  43,  17],\n",
      "        [478, 505,  16],\n",
      "        [506,  37, 507],\n",
      "        [ 15, 422, 459],\n",
      "        [ 43, 266, 508],\n",
      "        [ 43, 509,  13],\n",
      "        [510, 511,  35],\n",
      "        [512, 513, 514],\n",
      "        [ 13,  37, 515],\n",
      "        [516, 479,  35],\n",
      "        [517, 518,  15],\n",
      "        [306, 137, 509],\n",
      "        [ 13, 422, 519],\n",
      "        [ 27, 430, 520],\n",
      "        [ 95,  27, 266],\n",
      "        [ 30, 186, 453],\n",
      "        [521,  16,  17],\n",
      "        [425,  48, 522],\n",
      "        [ 17, 523,  13],\n",
      "        [434,  35, 151]])\n"
     ]
    }
   ],
   "source": [
    "train_data, val_data, test_data = _get_train_val_test_data(\n",
    "    corpus=corpus, batch_size=batch_size\n",
    ")\n",
    "print(train_data)\n",
    "print(val_data)\n",
    "print(test_data)"
   ]
  },
  {
   "cell_type": "code",
   "execution_count": 25,
   "metadata": {},
   "outputs": [],
   "source": [
    "device = env_params[\"device\"]\n",
    "train_data = train_data.to(device)\n",
    "val_data = val_data.to(device)\n",
    "test_data = test_data.to(device)"
   ]
  },
  {
   "cell_type": "markdown",
   "metadata": {},
   "source": [
    "# Logging setup"
   ]
  },
  {
   "cell_type": "code",
   "execution_count": 26,
   "metadata": {},
   "outputs": [
    {
     "data": {
      "text/plain": [
       "'smoe'"
      ]
     },
     "execution_count": 26,
     "metadata": {},
     "output_type": "execute_result"
    }
   ],
   "source": [
    "fold_name = trainer_params[\"checkpoint_path\"].split(\"/\")[-1].split(\".\")[0]\n",
    "fold_name"
   ]
  },
  {
   "cell_type": "code",
   "execution_count": 27,
   "metadata": {},
   "outputs": [
    {
     "data": {
      "text/plain": [
       "'checkpoint/directory'"
      ]
     },
     "execution_count": 27,
     "metadata": {},
     "output_type": "execute_result"
    }
   ],
   "source": [
    "folder_path = \"/\".join(trainer_params[\"checkpoint_path\"].split(\"/\")[:-1])\n",
    "folder_path"
   ]
  },
  {
   "cell_type": "code",
   "execution_count": 28,
   "metadata": {},
   "outputs": [],
   "source": [
    "import shutil\n",
    "import functools\n",
    "\n",
    "\n",
    "def _logging(s, log_path, print_=True, log_=True):\n",
    "    if print_:\n",
    "        print(s)\n",
    "    if log_:\n",
    "        with open(log_path, \"a+\") as f_log:\n",
    "            f_log.write(s + \"\\n\")\n",
    "\n",
    "\n",
    "def get_logger(log_path, **kwargs):\n",
    "    return functools.partial(_logging, log_path=log_path, **kwargs)\n",
    "\n",
    "\n",
    "def create_exp_dir(dir_path, scripts_to_save=None, debug=False):\n",
    "    if debug:\n",
    "        print(\"Debug Mode : no experiment dir created\")\n",
    "        return functools.partial(_logging, log_path=None, log_=False)\n",
    "\n",
    "    if not os.path.exists(dir_path):\n",
    "        os.makedirs(dir_path)\n",
    "\n",
    "    print(\"Experiment dir : {}\".format(dir_path))\n",
    "    if scripts_to_save is not None:\n",
    "        script_path = os.path.join(dir_path, \"scripts\")\n",
    "        if not os.path.exists(script_path):\n",
    "            os.makedirs(script_path)\n",
    "        for script in scripts_to_save:\n",
    "            dst_file = os.path.join(dir_path, \"scripts\", os.path.basename(script))\n",
    "            shutil.copyfile(script, dst_file)\n",
    "\n",
    "    return get_logger(log_path=os.path.join(dir_path, \"log.txt\"))"
   ]
  },
  {
   "cell_type": "code",
   "execution_count": 29,
   "metadata": {},
   "outputs": [
    {
     "name": "stdout",
     "output_type": "stream",
     "text": [
      "Experiment dir : c:/Users/Admin/OneDrive - Hanoi University of Science and Technology/DANC/source_code/my_source/checkpoint/directory/experiments/smoe\n"
     ]
    },
    {
     "data": {
      "text/plain": [
       "functools.partial(<function _logging at 0x000001508511F380>, log_path='c:/Users/Admin/OneDrive - Hanoi University of Science and Technology/DANC/source_code/my_source/checkpoint/directory/experiments/smoe\\\\log.txt')"
      ]
     },
     "execution_count": 29,
     "metadata": {},
     "output_type": "execute_result"
    }
   ],
   "source": [
    "logging = create_exp_dir(\n",
    "    os.path.join(config.ROOT_PATH, f\"{folder_path}/experiments/{fold_name}\")\n",
    ")\n",
    "logging"
   ]
  },
  {
   "cell_type": "code",
   "execution_count": 30,
   "metadata": {},
   "outputs": [
    {
     "name": "stdout",
     "output_type": "stream",
     "text": [
      "2025-01-09 23:12:15.550265\n"
     ]
    }
   ],
   "source": [
    "import datetime\n",
    "\n",
    "current_time = datetime.datetime.now()\n",
    "\n",
    "logging(str(current_time))"
   ]
  },
  {
   "cell_type": "code",
   "execution_count": 31,
   "metadata": {},
   "outputs": [
    {
     "data": {
      "text/plain": [
       "{'resume': False,\n",
       " 'batch_size': 96,\n",
       " 'checkpoint_path': 'checkpoint/directory/smoe.pt',\n",
       " 'full_eval_mode': False,\n",
       " 'nb_batches_per_iter': 1000,\n",
       " 'batch_split': 2}"
      ]
     },
     "execution_count": 31,
     "metadata": {},
     "output_type": "execute_result"
    }
   ],
   "source": [
    "trainer_params"
   ]
  },
  {
   "cell_type": "markdown",
   "metadata": {},
   "source": [
    "# Model"
   ]
  },
  {
   "cell_type": "code",
   "execution_count": 65,
   "metadata": {},
   "outputs": [],
   "source": [
    "model_params = {\n",
    "    \"block_size\": 256,\n",
    "    \"hidden_size\": 128,\n",
    "    \"architecture\": \"sgsgsg\",\n",
    "    \"base_arch\": \"transformer\",\n",
    "}"
   ]
  },
  {
   "cell_type": "code",
   "execution_count": 31,
   "metadata": {},
   "outputs": [
    {
     "data": {
      "text/plain": [
       "([0, 0], 0)"
      ]
     },
     "execution_count": 31,
     "metadata": {},
     "output_type": "execute_result"
    }
   ],
   "source": [
    "data_pos = [0] * 2\n",
    "data_pos, data_pos[0]"
   ]
  },
  {
   "cell_type": "code",
   "execution_count": 40,
   "metadata": {},
   "outputs": [
    {
     "data": {
      "text/plain": [
       "2"
      ]
     },
     "execution_count": 40,
     "metadata": {},
     "output_type": "execute_result"
    }
   ],
   "source": [
    "batch_split = trainer_params[\"batch_split\"]\n",
    "batch_split"
   ]
  },
  {
   "cell_type": "code",
   "execution_count": 34,
   "metadata": {},
   "outputs": [
    {
     "data": {
      "text/plain": [
       "(tensor([[  0,   1,   2,   3,   4],\n",
       "         [  1,   0,   0,   5,   6],\n",
       "         [  2,   7,   8,   9,   3],\n",
       "         [ 10,  11,   8,  12,  13],\n",
       "         [ 14,  15,   2,  16,  17],\n",
       "         [ 18,   7,  19,  13,  20],\n",
       "         [ 21,  22,  23,   2,   3],\n",
       "         [  4,  24,  25,  13,  26],\n",
       "         [ 27,  28,  29,  30,  31],\n",
       "         [ 32,  33,  34,  35,  36],\n",
       "         [ 37,  38,  39,  17,  40],\n",
       "         [ 41,  15,  42,  43,  44],\n",
       "         [ 45,  43,  25,  13,  46],\n",
       "         [ 26,  17,  47,  33,  43],\n",
       "         [ 17,   2,  48,  15,  49],\n",
       "         [ 17,  50,  51,  16,  28],\n",
       "         [ 37,  52,  30,  53,  54],\n",
       "         [ 23,  55,  56,  13,  17],\n",
       "         [ 57,  58,  59,  22,  17],\n",
       "         [ 60,  33,  37,  61,  17],\n",
       "         [ 62,  63,  62,  13,  27],\n",
       "         [ 64,  65,  66,  67,  17],\n",
       "         [ 68,  16,  69,  70,  17],\n",
       "         [ 71,  72,  73,  74,  75],\n",
       "         [ 76,  77,  78,  37,  79],\n",
       "         [ 80,  81,  17,  82,  66],\n",
       "         [ 62,  83,  84,  62,  15],\n",
       "         [  0,  85,  33,  86,  87],\n",
       "         [ 43,  88,  13,  89,  90],\n",
       "         [ 27,  91,  92,  16,  17],\n",
       "         [ 93,  94,  95,   2,   3],\n",
       "         [ 96,  15,  97,  46,  98],\n",
       "         [ 17,  99, 100,  16,  17],\n",
       "         [ 48,  13,  46, 101, 102],\n",
       "         [103, 104,  13, 105,  23],\n",
       "         [106,  17,  33, 107, 108],\n",
       "         [ 39,  48, 109,  15, 110],\n",
       "         [111, 112, 113,  37, 114],\n",
       "         [115, 116, 117, 118, 119],\n",
       "         [120, 121,  13, 122, 123],\n",
       "         [  2,   3,  96, 124, 125],\n",
       "         [126,  15, 127,  91, 128],\n",
       "         [ 16, 129, 130,  17, 131],\n",
       "         [ 15,  85,  33, 132, 133],\n",
       "         [134, 135, 136,  35, 137],\n",
       "         [138,  15,   0, 139, 140],\n",
       "         [123, 141, 142,  43,  25],\n",
       "         [ 13,  37, 135, 143,  35],\n",
       "         [117,  11,  37, 144, 145],\n",
       "         [ 15, 146, 147,  13,  46],\n",
       "         [148, 149, 150,  13, 122],\n",
       "         [123, 151, 152, 153,  43],\n",
       "         [154,  16, 155, 156,  15],\n",
       "         [139, 135, 101, 157, 158],\n",
       "         [159,  37, 151, 160,  32],\n",
       "         [161,  48,  15, 162,  22],\n",
       "         [163, 142,  16,   2,   3],\n",
       "         [ 96,  13,   2,   3,   4],\n",
       "         [135, 164, 165,  13, 166],\n",
       "         [ 27, 167, 168, 169, 123],\n",
       "         [ 17,  33, 132, 152, 153],\n",
       "         [135, 170,  43, 171,  15],\n",
       "         [ 38, 172, 173,  22,  17],\n",
       "         [174, 123,  17,  87,  16],\n",
       "         [  2,   8, 175, 176,  39],\n",
       "         [ 17,  40, 177,  15,   0],\n",
       "         [  0,   1,   1, 178,   1],\n",
       "         [  1,   0,   0, 179, 123],\n",
       "         [120, 180,   3, 181,  13],\n",
       "         [  2,   3,   4,  26,  27],\n",
       "         [ 28,  29,  30,  31,  33],\n",
       "         [182, 183, 184, 185,  16],\n",
       "         [ 27,  65,  66,  37, 184],\n",
       "         [186,  43, 187,  81, 188],\n",
       "         [189,  15, 190,  79, 191],\n",
       "         [192, 193, 194,  30, 195],\n",
       "         [196, 123, 197, 198, 199],\n",
       "         [ 13, 123, 200, 201, 202],\n",
       "         [192, 203, 204, 205,  37],\n",
       "         [202, 192, 206, 207,  15],\n",
       "         [ 85, 208, 209, 192,  27],\n",
       "         [ 48,  16, 210, 187,  13],\n",
       "         [211, 212,  23, 213, 155],\n",
       "         [214, 215, 216, 217, 192],\n",
       "         [ 37, 218,  23, 219,  79],\n",
       "         [212,  15,  85, 220,  22],\n",
       "         [221,  57, 222,  95,  17],\n",
       "         [223, 224, 225,  95, 151],\n",
       "         [226, 208, 132, 227,   8],\n",
       "         [228, 229, 230,  26, 231],\n",
       "         [ 13,  17, 232,  26, 233],\n",
       "         [234,  22,  17, 208,  15],\n",
       "         [235, 187,  13,  17, 208],\n",
       "         [200, 236,  43,  27, 237],\n",
       "         [ 13, 182, 238, 214, 215],\n",
       "         [239,  37, 198, 240, 241]]),\n",
       " tensor([[  1,   2,   3,   4],\n",
       "         [  0,   0,   5,   6],\n",
       "         [  7,   8,   9,   3],\n",
       "         [ 11,   8,  12,  13],\n",
       "         [ 15,   2,  16,  17],\n",
       "         [  7,  19,  13,  20],\n",
       "         [ 22,  23,   2,   3],\n",
       "         [ 24,  25,  13,  26],\n",
       "         [ 28,  29,  30,  31],\n",
       "         [ 33,  34,  35,  36],\n",
       "         [ 38,  39,  17,  40],\n",
       "         [ 15,  42,  43,  44],\n",
       "         [ 43,  25,  13,  46],\n",
       "         [ 17,  47,  33,  43],\n",
       "         [  2,  48,  15,  49],\n",
       "         [ 50,  51,  16,  28],\n",
       "         [ 52,  30,  53,  54],\n",
       "         [ 55,  56,  13,  17],\n",
       "         [ 58,  59,  22,  17],\n",
       "         [ 33,  37,  61,  17],\n",
       "         [ 63,  62,  13,  27],\n",
       "         [ 65,  66,  67,  17],\n",
       "         [ 16,  69,  70,  17],\n",
       "         [ 72,  73,  74,  75],\n",
       "         [ 77,  78,  37,  79],\n",
       "         [ 81,  17,  82,  66],\n",
       "         [ 83,  84,  62,  15],\n",
       "         [ 85,  33,  86,  87],\n",
       "         [ 88,  13,  89,  90],\n",
       "         [ 91,  92,  16,  17],\n",
       "         [ 94,  95,   2,   3],\n",
       "         [ 15,  97,  46,  98],\n",
       "         [ 99, 100,  16,  17],\n",
       "         [ 13,  46, 101, 102],\n",
       "         [104,  13, 105,  23],\n",
       "         [ 17,  33, 107, 108],\n",
       "         [ 48, 109,  15, 110],\n",
       "         [112, 113,  37, 114],\n",
       "         [116, 117, 118, 119],\n",
       "         [121,  13, 122, 123],\n",
       "         [  3,  96, 124, 125],\n",
       "         [ 15, 127,  91, 128],\n",
       "         [129, 130,  17, 131],\n",
       "         [ 85,  33, 132, 133],\n",
       "         [135, 136,  35, 137],\n",
       "         [ 15,   0, 139, 140],\n",
       "         [141, 142,  43,  25],\n",
       "         [ 37, 135, 143,  35],\n",
       "         [ 11,  37, 144, 145],\n",
       "         [146, 147,  13,  46],\n",
       "         [149, 150,  13, 122],\n",
       "         [151, 152, 153,  43],\n",
       "         [ 16, 155, 156,  15],\n",
       "         [135, 101, 157, 158],\n",
       "         [ 37, 151, 160,  32],\n",
       "         [ 48,  15, 162,  22],\n",
       "         [142,  16,   2,   3],\n",
       "         [ 13,   2,   3,   4],\n",
       "         [164, 165,  13, 166],\n",
       "         [167, 168, 169, 123],\n",
       "         [ 33, 132, 152, 153],\n",
       "         [170,  43, 171,  15],\n",
       "         [172, 173,  22,  17],\n",
       "         [123,  17,  87,  16],\n",
       "         [  8, 175, 176,  39],\n",
       "         [ 40, 177,  15,   0],\n",
       "         [  1,   1, 178,   1],\n",
       "         [  0,   0, 179, 123],\n",
       "         [180,   3, 181,  13],\n",
       "         [  3,   4,  26,  27],\n",
       "         [ 29,  30,  31,  33],\n",
       "         [183, 184, 185,  16],\n",
       "         [ 65,  66,  37, 184],\n",
       "         [ 43, 187,  81, 188],\n",
       "         [ 15, 190,  79, 191],\n",
       "         [193, 194,  30, 195],\n",
       "         [123, 197, 198, 199],\n",
       "         [123, 200, 201, 202],\n",
       "         [203, 204, 205,  37],\n",
       "         [192, 206, 207,  15],\n",
       "         [208, 209, 192,  27],\n",
       "         [ 16, 210, 187,  13],\n",
       "         [212,  23, 213, 155],\n",
       "         [215, 216, 217, 192],\n",
       "         [218,  23, 219,  79],\n",
       "         [ 15,  85, 220,  22],\n",
       "         [ 57, 222,  95,  17],\n",
       "         [224, 225,  95, 151],\n",
       "         [208, 132, 227,   8],\n",
       "         [229, 230,  26, 231],\n",
       "         [ 17, 232,  26, 233],\n",
       "         [ 22,  17, 208,  15],\n",
       "         [187,  13,  17, 208],\n",
       "         [236,  43,  27, 237],\n",
       "         [182, 238, 214, 215],\n",
       "         [ 37, 198, 240, 241]]),\n",
       " torch.Size([96, 5]),\n",
       " torch.Size([96, 4]))"
      ]
     },
     "execution_count": 34,
     "metadata": {},
     "output_type": "execute_result"
    }
   ],
   "source": [
    "train_pos = data_pos[0]\n",
    "block_size = model_params[\"block_size\"]\n",
    "X = train_data[:, train_pos : train_pos + block_size].contiguous()\n",
    "Y = train_data[:, train_pos + 1 : train_pos + block_size + 1].contiguous()\n",
    "X, Y, X.shape, Y.shape"
   ]
  },
  {
   "cell_type": "code",
   "execution_count": 41,
   "metadata": {},
   "outputs": [
    {
     "data": {
      "text/plain": [
       "0"
      ]
     },
     "execution_count": 41,
     "metadata": {},
     "output_type": "execute_result"
    }
   ],
   "source": [
    "X.size(0) % batch_split"
   ]
  },
  {
   "cell_type": "code",
   "execution_count": 42,
   "metadata": {},
   "outputs": [
    {
     "data": {
      "text/plain": [
       "48"
      ]
     },
     "execution_count": 42,
     "metadata": {},
     "output_type": "execute_result"
    }
   ],
   "source": [
    "split_size = X.size(0) // batch_split\n",
    "split_size"
   ]
  },
  {
   "cell_type": "code",
   "execution_count": 46,
   "metadata": {},
   "outputs": [
    {
     "data": {
      "text/plain": [
       "slice(0, 48, None)"
      ]
     },
     "execution_count": 46,
     "metadata": {},
     "output_type": "execute_result"
    }
   ],
   "source": [
    "split_ind = 0\n",
    "split_slice = slice(split_ind * split_size, (split_ind + 1) * split_size)\n",
    "split_slice"
   ]
  },
  {
   "cell_type": "code",
   "execution_count": 49,
   "metadata": {},
   "outputs": [
    {
     "data": {
      "text/plain": [
       "(tensor([[  0,   1,   2,   3,   4],\n",
       "         [  1,   0,   0,   5,   6],\n",
       "         [  2,   7,   8,   9,   3],\n",
       "         [ 10,  11,   8,  12,  13],\n",
       "         [ 14,  15,   2,  16,  17],\n",
       "         [ 18,   7,  19,  13,  20],\n",
       "         [ 21,  22,  23,   2,   3],\n",
       "         [  4,  24,  25,  13,  26],\n",
       "         [ 27,  28,  29,  30,  31],\n",
       "         [ 32,  33,  34,  35,  36],\n",
       "         [ 37,  38,  39,  17,  40],\n",
       "         [ 41,  15,  42,  43,  44],\n",
       "         [ 45,  43,  25,  13,  46],\n",
       "         [ 26,  17,  47,  33,  43],\n",
       "         [ 17,   2,  48,  15,  49],\n",
       "         [ 17,  50,  51,  16,  28],\n",
       "         [ 37,  52,  30,  53,  54],\n",
       "         [ 23,  55,  56,  13,  17],\n",
       "         [ 57,  58,  59,  22,  17],\n",
       "         [ 60,  33,  37,  61,  17],\n",
       "         [ 62,  63,  62,  13,  27],\n",
       "         [ 64,  65,  66,  67,  17],\n",
       "         [ 68,  16,  69,  70,  17],\n",
       "         [ 71,  72,  73,  74,  75],\n",
       "         [ 76,  77,  78,  37,  79],\n",
       "         [ 80,  81,  17,  82,  66],\n",
       "         [ 62,  83,  84,  62,  15],\n",
       "         [  0,  85,  33,  86,  87],\n",
       "         [ 43,  88,  13,  89,  90],\n",
       "         [ 27,  91,  92,  16,  17],\n",
       "         [ 93,  94,  95,   2,   3],\n",
       "         [ 96,  15,  97,  46,  98],\n",
       "         [ 17,  99, 100,  16,  17],\n",
       "         [ 48,  13,  46, 101, 102],\n",
       "         [103, 104,  13, 105,  23],\n",
       "         [106,  17,  33, 107, 108],\n",
       "         [ 39,  48, 109,  15, 110],\n",
       "         [111, 112, 113,  37, 114],\n",
       "         [115, 116, 117, 118, 119],\n",
       "         [120, 121,  13, 122, 123],\n",
       "         [  2,   3,  96, 124, 125],\n",
       "         [126,  15, 127,  91, 128],\n",
       "         [ 16, 129, 130,  17, 131],\n",
       "         [ 15,  85,  33, 132, 133],\n",
       "         [134, 135, 136,  35, 137],\n",
       "         [138,  15,   0, 139, 140],\n",
       "         [123, 141, 142,  43,  25],\n",
       "         [ 13,  37, 135, 143,  35]]),\n",
       " tensor([[  1,   2,   3,   4],\n",
       "         [  0,   0,   5,   6],\n",
       "         [  7,   8,   9,   3],\n",
       "         [ 11,   8,  12,  13],\n",
       "         [ 15,   2,  16,  17],\n",
       "         [  7,  19,  13,  20],\n",
       "         [ 22,  23,   2,   3],\n",
       "         [ 24,  25,  13,  26],\n",
       "         [ 28,  29,  30,  31],\n",
       "         [ 33,  34,  35,  36],\n",
       "         [ 38,  39,  17,  40],\n",
       "         [ 15,  42,  43,  44],\n",
       "         [ 43,  25,  13,  46],\n",
       "         [ 17,  47,  33,  43],\n",
       "         [  2,  48,  15,  49],\n",
       "         [ 50,  51,  16,  28],\n",
       "         [ 52,  30,  53,  54],\n",
       "         [ 55,  56,  13,  17],\n",
       "         [ 58,  59,  22,  17],\n",
       "         [ 33,  37,  61,  17],\n",
       "         [ 63,  62,  13,  27],\n",
       "         [ 65,  66,  67,  17],\n",
       "         [ 16,  69,  70,  17],\n",
       "         [ 72,  73,  74,  75],\n",
       "         [ 77,  78,  37,  79],\n",
       "         [ 81,  17,  82,  66],\n",
       "         [ 83,  84,  62,  15],\n",
       "         [ 85,  33,  86,  87],\n",
       "         [ 88,  13,  89,  90],\n",
       "         [ 91,  92,  16,  17],\n",
       "         [ 94,  95,   2,   3],\n",
       "         [ 15,  97,  46,  98],\n",
       "         [ 99, 100,  16,  17],\n",
       "         [ 13,  46, 101, 102],\n",
       "         [104,  13, 105,  23],\n",
       "         [ 17,  33, 107, 108],\n",
       "         [ 48, 109,  15, 110],\n",
       "         [112, 113,  37, 114],\n",
       "         [116, 117, 118, 119],\n",
       "         [121,  13, 122, 123],\n",
       "         [  3,  96, 124, 125],\n",
       "         [ 15, 127,  91, 128],\n",
       "         [129, 130,  17, 131],\n",
       "         [ 85,  33, 132, 133],\n",
       "         [135, 136,  35, 137],\n",
       "         [ 15,   0, 139, 140],\n",
       "         [141, 142,  43,  25],\n",
       "         [ 37, 135, 143,  35]]),\n",
       " torch.Size([48, 5]),\n",
       " torch.Size([48, 4]))"
      ]
     },
     "execution_count": 49,
     "metadata": {},
     "output_type": "execute_result"
    }
   ],
   "source": [
    "X = X[split_slice, :]\n",
    "Y = Y[split_slice]\n",
    "X, Y, X.shape, Y.shape"
   ]
  },
  {
   "cell_type": "code",
   "execution_count": 57,
   "metadata": {},
   "outputs": [
    {
     "data": {
      "text/plain": [
       "({'block_size': 256, 'hide_size': 128},\n",
       " {'data_path': 'data/text8', 'data_name': 'text8', 'vocab_size': 532})"
      ]
     },
     "execution_count": 57,
     "metadata": {},
     "output_type": "execute_result"
    }
   ],
   "source": [
    "model_params, data_params"
   ]
  },
  {
   "cell_type": "code",
   "execution_count": 62,
   "metadata": {},
   "outputs": [
    {
     "data": {
      "text/plain": [
       "(tensor([[[ 9.5447e-01, -3.0617e-01, -3.8776e-01,  ...,  7.8093e-01,\n",
       "            3.5337e-01,  1.4196e+00],\n",
       "          [-2.0225e-02, -3.6762e-01, -7.7904e-01,  ..., -3.7238e-01,\n",
       "           -1.7133e+00,  2.0066e-02],\n",
       "          [-6.4545e-01,  3.1715e-01, -5.5263e-01,  ..., -6.2707e-01,\n",
       "            1.4005e+00, -2.5901e+00],\n",
       "          [ 3.9238e-01, -1.1544e+00,  3.0694e-01,  ...,  2.5951e+00,\n",
       "            7.2486e-01, -5.3140e-01],\n",
       "          [-9.4617e-01,  9.0296e-01, -1.6938e+00,  ...,  2.5571e-01,\n",
       "           -1.9398e+00,  9.6136e-01]],\n",
       " \n",
       "         [[-2.0225e-02, -3.6762e-01, -7.7904e-01,  ..., -3.7238e-01,\n",
       "           -1.7133e+00,  2.0066e-02],\n",
       "          [ 9.5447e-01, -3.0617e-01, -3.8776e-01,  ...,  7.8093e-01,\n",
       "            3.5337e-01,  1.4196e+00],\n",
       "          [ 9.5447e-01, -3.0617e-01, -3.8776e-01,  ...,  7.8093e-01,\n",
       "            3.5337e-01,  1.4196e+00],\n",
       "          [-1.7920e+00,  4.3585e-01, -1.0626e+00,  ...,  3.7680e-01,\n",
       "            8.7776e-01,  1.1222e+00],\n",
       "          [-9.9017e-01, -1.6931e+00, -1.3523e+00,  ...,  5.5799e-01,\n",
       "           -6.3051e-01, -7.1411e-01]],\n",
       " \n",
       "         [[-6.4545e-01,  3.1715e-01, -5.5263e-01,  ..., -6.2707e-01,\n",
       "            1.4005e+00, -2.5901e+00],\n",
       "          [ 3.8174e-01,  1.4275e-01,  1.5806e+00,  ..., -1.4877e+00,\n",
       "            3.9652e-01, -7.0782e-01],\n",
       "          [-3.2811e-02,  1.8843e+00,  6.3997e-01,  ...,  1.4720e+00,\n",
       "           -3.3575e-02, -2.0173e+00],\n",
       "          [-4.6705e-01, -8.6077e-03,  6.6620e-01,  ..., -1.0169e+00,\n",
       "            1.1183e+00,  1.2265e+00],\n",
       "          [ 3.9238e-01, -1.1544e+00,  3.0694e-01,  ...,  2.5951e+00,\n",
       "            7.2486e-01, -5.3140e-01]],\n",
       " \n",
       "         ...,\n",
       " \n",
       "         [[-1.2850e+00, -7.9711e-01, -2.9916e-01,  ...,  1.9318e+00,\n",
       "            6.1084e-02,  3.5570e-01],\n",
       "          [ 5.4848e-01,  5.8651e-01, -1.2268e-01,  ..., -9.4421e-02,\n",
       "            9.4560e-04, -5.5704e-01],\n",
       "          [ 9.5447e-01, -3.0617e-01, -3.8776e-01,  ...,  7.8093e-01,\n",
       "            3.5337e-01,  1.4196e+00],\n",
       "          [-3.7527e-01, -2.1321e+00, -4.7732e-01,  ..., -4.5426e-01,\n",
       "            1.4425e+00,  2.9369e-01],\n",
       "          [-1.5572e-03,  1.1667e+00,  4.4043e-01,  ..., -6.0246e-01,\n",
       "           -1.3922e+00, -4.4179e-01]],\n",
       " \n",
       "         [[ 1.7962e+00, -6.1557e-01, -1.4615e-02,  ...,  7.4732e-01,\n",
       "           -4.0760e-01,  4.8842e-01],\n",
       "          [ 8.2602e-01,  1.3501e+00, -1.6424e+00,  ...,  8.1845e-01,\n",
       "           -3.2355e-01,  1.8967e-01],\n",
       "          [ 9.0050e-01, -8.4252e-01,  1.0115e-01,  ..., -2.6898e-01,\n",
       "           -1.0813e+00, -9.3786e-01],\n",
       "          [ 3.1847e-01,  9.7125e-01,  6.0678e-01,  ...,  1.4145e-01,\n",
       "            8.9008e-01, -7.5877e-01],\n",
       "          [-9.8344e-01, -1.0277e+00,  6.1032e-01,  ...,  4.5612e-01,\n",
       "            8.8333e-01, -5.7595e-02]],\n",
       " \n",
       "         [[-4.9854e-01,  5.1863e-01,  2.0996e+00,  ..., -1.4283e+00,\n",
       "            1.6772e+00,  7.9913e-01],\n",
       "          [ 8.7298e-01,  6.3131e-01, -8.7351e-01,  ..., -2.4087e+00,\n",
       "           -3.6538e-02,  9.2645e-01],\n",
       "          [ 1.2400e+00, -8.6481e-02,  5.1482e-02,  ..., -6.2568e-01,\n",
       "           -3.7300e-01, -1.8837e+00],\n",
       "          [-2.1780e+00,  1.1170e+00, -6.7294e-01,  ..., -1.5059e+00,\n",
       "            2.3550e-01,  1.3687e+00],\n",
       "          [ 1.0391e-01, -2.7802e-01,  1.7816e-01,  ..., -8.8984e-01,\n",
       "           -6.8207e-01, -6.8102e-01]]], grad_fn=<EmbeddingBackward0>),\n",
       " torch.Size([48, 5, 128]))"
      ]
     },
     "execution_count": 62,
     "metadata": {},
     "output_type": "execute_result"
    }
   ],
   "source": [
    "import torch.nn as nn\n",
    "\n",
    "vocab_size = data_params[\"vocab_size\"]\n",
    "hidden_size = model_params[\"hidden_size\"]\n",
    "in_emb = nn.Embedding(vocab_size, hidden_size)\n",
    "h = in_emb(X)\n",
    "h, h.shape"
   ]
  },
  {
   "cell_type": "code",
   "execution_count": 64,
   "metadata": {},
   "outputs": [
    {
     "data": {
      "text/plain": [
       "(tensor([[[0., 0., 0.,  ..., 0., 0., 0.],\n",
       "          [0., 0., 0.,  ..., 0., 0., 0.],\n",
       "          [0., 0., 0.,  ..., 0., 0., 0.],\n",
       "          [0., 0., 0.,  ..., 0., 0., 0.],\n",
       "          [0., 0., 0.,  ..., 0., 0., 0.]],\n",
       " \n",
       "         [[0., 0., 0.,  ..., 0., 0., 0.],\n",
       "          [0., 0., 0.,  ..., 0., 0., 0.],\n",
       "          [0., 0., 0.,  ..., 0., 0., 0.],\n",
       "          [0., 0., 0.,  ..., 0., 0., 0.],\n",
       "          [0., 0., 0.,  ..., 0., 0., 0.]],\n",
       " \n",
       "         [[0., 0., 0.,  ..., 0., 0., 0.],\n",
       "          [0., 0., 0.,  ..., 0., 0., 0.],\n",
       "          [0., 0., 0.,  ..., 0., 0., 0.],\n",
       "          [0., 0., 0.,  ..., 0., 0., 0.],\n",
       "          [0., 0., 0.,  ..., 0., 0., 0.]],\n",
       " \n",
       "         ...,\n",
       " \n",
       "         [[0., 0., 0.,  ..., 0., 0., 0.],\n",
       "          [0., 0., 0.,  ..., 0., 0., 0.],\n",
       "          [0., 0., 0.,  ..., 0., 0., 0.],\n",
       "          [0., 0., 0.,  ..., 0., 0., 0.],\n",
       "          [0., 0., 0.,  ..., 0., 0., 0.]],\n",
       " \n",
       "         [[0., 0., 0.,  ..., 0., 0., 0.],\n",
       "          [0., 0., 0.,  ..., 0., 0., 0.],\n",
       "          [0., 0., 0.,  ..., 0., 0., 0.],\n",
       "          [0., 0., 0.,  ..., 0., 0., 0.],\n",
       "          [0., 0., 0.,  ..., 0., 0., 0.]],\n",
       " \n",
       "         [[0., 0., 0.,  ..., 0., 0., 0.],\n",
       "          [0., 0., 0.,  ..., 0., 0., 0.],\n",
       "          [0., 0., 0.,  ..., 0., 0., 0.],\n",
       "          [0., 0., 0.,  ..., 0., 0., 0.],\n",
       "          [0., 0., 0.,  ..., 0., 0., 0.]]]),\n",
       " tensor([[[0., 0., 0.,  ..., 0., 0., 0.],\n",
       "          [0., 0., 0.,  ..., 0., 0., 0.],\n",
       "          [0., 0., 0.,  ..., 0., 0., 0.],\n",
       "          [0., 0., 0.,  ..., 0., 0., 0.],\n",
       "          [0., 0., 0.,  ..., 0., 0., 0.]],\n",
       " \n",
       "         [[0., 0., 0.,  ..., 0., 0., 0.],\n",
       "          [0., 0., 0.,  ..., 0., 0., 0.],\n",
       "          [0., 0., 0.,  ..., 0., 0., 0.],\n",
       "          [0., 0., 0.,  ..., 0., 0., 0.],\n",
       "          [0., 0., 0.,  ..., 0., 0., 0.]],\n",
       " \n",
       "         [[0., 0., 0.,  ..., 0., 0., 0.],\n",
       "          [0., 0., 0.,  ..., 0., 0., 0.],\n",
       "          [0., 0., 0.,  ..., 0., 0., 0.],\n",
       "          [0., 0., 0.,  ..., 0., 0., 0.],\n",
       "          [0., 0., 0.,  ..., 0., 0., 0.]],\n",
       " \n",
       "         ...,\n",
       " \n",
       "         [[0., 0., 0.,  ..., 0., 0., 0.],\n",
       "          [0., 0., 0.,  ..., 0., 0., 0.],\n",
       "          [0., 0., 0.,  ..., 0., 0., 0.],\n",
       "          [0., 0., 0.,  ..., 0., 0., 0.],\n",
       "          [0., 0., 0.,  ..., 0., 0., 0.]],\n",
       " \n",
       "         [[0., 0., 0.,  ..., 0., 0., 0.],\n",
       "          [0., 0., 0.,  ..., 0., 0., 0.],\n",
       "          [0., 0., 0.,  ..., 0., 0., 0.],\n",
       "          [0., 0., 0.,  ..., 0., 0., 0.],\n",
       "          [0., 0., 0.,  ..., 0., 0., 0.]],\n",
       " \n",
       "         [[0., 0., 0.,  ..., 0., 0., 0.],\n",
       "          [0., 0., 0.,  ..., 0., 0., 0.],\n",
       "          [0., 0., 0.,  ..., 0., 0., 0.],\n",
       "          [0., 0., 0.,  ..., 0., 0., 0.],\n",
       "          [0., 0., 0.,  ..., 0., 0., 0.]]]),\n",
       " tensor([[[0., 0., 0.,  ..., 0., 0., 0.],\n",
       "          [0., 0., 0.,  ..., 0., 0., 0.],\n",
       "          [0., 0., 0.,  ..., 0., 0., 0.],\n",
       "          [0., 0., 0.,  ..., 0., 0., 0.],\n",
       "          [0., 0., 0.,  ..., 0., 0., 0.]],\n",
       " \n",
       "         [[0., 0., 0.,  ..., 0., 0., 0.],\n",
       "          [0., 0., 0.,  ..., 0., 0., 0.],\n",
       "          [0., 0., 0.,  ..., 0., 0., 0.],\n",
       "          [0., 0., 0.,  ..., 0., 0., 0.],\n",
       "          [0., 0., 0.,  ..., 0., 0., 0.]],\n",
       " \n",
       "         [[0., 0., 0.,  ..., 0., 0., 0.],\n",
       "          [0., 0., 0.,  ..., 0., 0., 0.],\n",
       "          [0., 0., 0.,  ..., 0., 0., 0.],\n",
       "          [0., 0., 0.,  ..., 0., 0., 0.],\n",
       "          [0., 0., 0.,  ..., 0., 0., 0.]],\n",
       " \n",
       "         ...,\n",
       " \n",
       "         [[0., 0., 0.,  ..., 0., 0., 0.],\n",
       "          [0., 0., 0.,  ..., 0., 0., 0.],\n",
       "          [0., 0., 0.,  ..., 0., 0., 0.],\n",
       "          [0., 0., 0.,  ..., 0., 0., 0.],\n",
       "          [0., 0., 0.,  ..., 0., 0., 0.]],\n",
       " \n",
       "         [[0., 0., 0.,  ..., 0., 0., 0.],\n",
       "          [0., 0., 0.,  ..., 0., 0., 0.],\n",
       "          [0., 0., 0.,  ..., 0., 0., 0.],\n",
       "          [0., 0., 0.,  ..., 0., 0., 0.],\n",
       "          [0., 0., 0.,  ..., 0., 0., 0.]],\n",
       " \n",
       "         [[0., 0., 0.,  ..., 0., 0., 0.],\n",
       "          [0., 0., 0.,  ..., 0., 0., 0.],\n",
       "          [0., 0., 0.,  ..., 0., 0., 0.],\n",
       "          [0., 0., 0.,  ..., 0., 0., 0.],\n",
       "          [0., 0., 0.,  ..., 0., 0., 0.]]]))"
      ]
     },
     "execution_count": 64,
     "metadata": {},
     "output_type": "execute_result"
    }
   ],
   "source": [
    "moment = (torch.zeros_like(h), torch.zeros_like(h), torch.zeros_like(h))\n",
    "moment"
   ]
  },
  {
   "cell_type": "markdown",
   "metadata": {},
   "source": [
    "## TransformerSeqLayer"
   ]
  },
  {
   "cell_type": "code",
   "execution_count": 67,
   "metadata": {},
   "outputs": [
    {
     "data": {
      "text/plain": [
       "'s'"
      ]
     },
     "execution_count": 67,
     "metadata": {},
     "output_type": "execute_result"
    }
   ],
   "source": [
    "base_arch = model_params[\"base_arch\"]\n",
    "arch = model_params[\"architecture\"]\n",
    "s = arch[2 * 0]\n",
    "s"
   ]
  },
  {
   "cell_type": "code",
   "execution_count": null,
   "metadata": {},
   "outputs": [],
   "source": [
    "h_all = torch.cat([h_cache, h])"
   ]
  }
 ],
 "metadata": {
  "kernelspec": {
   "display_name": "py_env",
   "language": "python",
   "name": "python3"
  },
  "language_info": {
   "codemirror_mode": {
    "name": "ipython",
    "version": 3
   },
   "file_extension": ".py",
   "mimetype": "text/x-python",
   "name": "python",
   "nbconvert_exporter": "python",
   "pygments_lexer": "ipython3",
   "version": "3.12.3"
  }
 },
 "nbformat": 4,
 "nbformat_minor": 2
}
