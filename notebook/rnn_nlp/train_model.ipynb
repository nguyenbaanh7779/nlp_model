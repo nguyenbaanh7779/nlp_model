{
 "cells": [
  {
   "cell_type": "code",
   "execution_count": 1,
   "metadata": {},
   "outputs": [],
   "source": [
    "import sys\n",
    "import os\n",
    "import torch\n",
    "import yaml\n",
    "import torch.nn as nn\n",
    "\n",
    "root_path = \"\"\n",
    "for path in os.getcwd().split(\"\\\\\")[:-2]:\n",
    "    root_path += f\"{path}/\"\n",
    "sys.path.insert(1, root_path)"
   ]
  },
  {
   "cell_type": "code",
   "execution_count": 2,
   "metadata": {},
   "outputs": [],
   "source": [
    "import config\n",
    "import src.utils as utils\n",
    "from src.model.rnn import RNNModel\n",
    "import src.trainer as trainer"
   ]
  },
  {
   "cell_type": "code",
   "execution_count": null,
   "metadata": {},
   "outputs": [],
   "source": [
    "num_epoch = 100"
   ]
  },
  {
   "cell_type": "code",
   "execution_count": null,
   "metadata": {},
   "outputs": [],
   "source": [
    "# Init device\n",
    "print(\"Initaling device ...\")\n",
    "device = (\n",
    "    \"cuda\"\n",
    "    if torch.cuda.is_available()\n",
    "    else \"cpu\"\n",
    ")\n",
    "print(f\"Using {device} device\")\n",
    "\n",
    "# Load data\n",
    "print(\"Loading data ...\")\n",
    "corpus_path = os.path.join(config.ROOT_PATH, \"data/raw/pentext.pt\")\n",
    "corpus = torch.load(corpus_path)\n",
    "\n",
    "# Init model\n",
    "print(\"Initaling model ...\")\n",
    "with open(os.path.join(config.ROOT_PATH, \"config/model_param.yaml\"), \"r\") as f:\n",
    "    model_param = yaml.safe_load(f)\n",
    "f.close()\n",
    "model_param[\"ntoken\"] = corpus.vocab_size\n",
    "model = RNNModel(**model_param)\n",
    "\n",
    "# Train model\n",
    "print(\"Starting train model ...\")\n",
    "with open(os.path.join(config.ROOT_PATH, \"config/trainer_param.yaml\"), \"r\") as f:\n",
    "    trainer_params = yaml.safe_load(f)\n",
    "f.close()\n",
    "\n",
    "\n",
    "train_data = utils.batchify(\n",
    "    data=corpus.train, batch_size=trainer_params[\"batch_size\"]\n",
    ")\n",
    "# valid_data = utils.batchify(data=corpus.valid, batch_size=trainer_params[\"batch_size\"])\n",
    "# test_data = utils.batchify(data=corpus.test, batch_size=trainer_params[\"batch_size\"])\n",
    "\n",
    "trainer_params[\"model\"] = model.to(device)\n",
    "trainer_params[\"train_data\"] = train_data.to(device)\n",
    "trainer_params[\"n_token\"] = corpus.vocab_size\n",
    "trainer_params[\"criterion\"] = nn.CrossEntropyLoss()\n",
    "\n",
    "for epoch in range(1, num_epoch + 1):\n",
    "    trainer.train_each_epoch(**trainer_params)"
   ]
  }
 ],
 "metadata": {
  "kernelspec": {
   "display_name": "py_env",
   "language": "python",
   "name": "python3"
  },
  "language_info": {
   "codemirror_mode": {
    "name": "ipython",
    "version": 3
   },
   "file_extension": ".py",
   "mimetype": "text/x-python",
   "name": "python",
   "nbconvert_exporter": "python",
   "pygments_lexer": "ipython3",
   "version": "3.12.3"
  }
 },
 "nbformat": 4,
 "nbformat_minor": 2
}
